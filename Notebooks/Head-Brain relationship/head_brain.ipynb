{
 "cells": [
  {
   "cell_type": "markdown",
   "metadata": {
    "id": "frNoMymf0Q-k"
   },
   "source": [
    "<h1 align=\"center\"l><b>A Study of the relations of the Brain Weight to the Size of the Head </b></h1>\n",
    "<p align=\"center\">\n",
    "  <img width=\"460\" height=\"300\" src=\"https://neurosciencenews.com/files/2020/08/alzheimers-late-neuroscinews-public.jpg\">\n",
    "</p>\n",
    "<br>\n",
    "<P align=\"center\">\n",
    "It is believed that there exist a relationship between head size and brain weight of human beings.\n",
    "The primary objective of this notebook is to establish a relation between the same using statistical method and machine learning algorithm.\n",
    "</P>\n",
    "\n",
    "\n",
    "\n",
    "> **Dataset**: http://www.stat.ufl.edu/~winner/data/brainhead.dat \n",
    "<br>\n",
    "> **Description**: http://users.stat.ufl.edu/~winner/data/brainhead.txt\n",
    "<br>\n",
    "> **Source:** R.J. Gladstone (1905). \"A Study of the Relations of the Brain to to the Size of the Head\", Biometrika, Vol. 4, pp105-123"
   ]
  },
  {
   "cell_type": "markdown",
   "metadata": {
    "id": "5NU6YPhHAp-E"
   },
   "source": [
    "<h1>Import necessary libraries</h1>"
   ]
  },
  {
   "cell_type": "code",
   "execution_count": 1,
   "metadata": {
    "id": "TH7tKnrw-m55"
   },
   "outputs": [],
   "source": [
    "import numpy as np \n",
    "import pandas as pd\n",
    "import matplotlib.pyplot as plt "
   ]
  },
  {
   "cell_type": "markdown",
   "metadata": {
    "id": "lomDrLqpA1v2"
   },
   "source": [
    "<h1>Load data</h1>"
   ]
  },
  {
   "cell_type": "markdown",
   "metadata": {
    "id": "iqIxOs3uD5Ip"
   },
   "source": [
    "For this notebook, a CSV file formatted of the same dataset is being used."
   ]
  },
  {
   "cell_type": "code",
   "execution_count": 2,
   "metadata": {
    "id": "ehF8dC_A-7Hv"
   },
   "outputs": [],
   "source": [
    "#load the csv file\n",
    "dataset = pd.read_csv('headbrain.csv')"
   ]
  },
  {
   "cell_type": "code",
   "execution_count": 3,
   "metadata": {
    "colab": {
     "base_uri": "https://localhost:8080/",
     "height": 195
    },
    "id": "nLBVGqot_kcj",
    "outputId": "f4478f41-f01a-4f97-f3a0-5e9a9dabaa39"
   },
   "outputs": [
    {
     "data": {
      "text/html": [
       "<div>\n",
       "<style scoped>\n",
       "    .dataframe tbody tr th:only-of-type {\n",
       "        vertical-align: middle;\n",
       "    }\n",
       "\n",
       "    .dataframe tbody tr th {\n",
       "        vertical-align: top;\n",
       "    }\n",
       "\n",
       "    .dataframe thead th {\n",
       "        text-align: right;\n",
       "    }\n",
       "</style>\n",
       "<table border=\"1\" class=\"dataframe\">\n",
       "  <thead>\n",
       "    <tr style=\"text-align: right;\">\n",
       "      <th></th>\n",
       "      <th>Gender</th>\n",
       "      <th>Age Range</th>\n",
       "      <th>Head Size(cm^3)</th>\n",
       "      <th>Brain Weight(grams)</th>\n",
       "    </tr>\n",
       "  </thead>\n",
       "  <tbody>\n",
       "    <tr>\n",
       "      <th>0</th>\n",
       "      <td>1</td>\n",
       "      <td>1</td>\n",
       "      <td>4512</td>\n",
       "      <td>1530</td>\n",
       "    </tr>\n",
       "    <tr>\n",
       "      <th>1</th>\n",
       "      <td>1</td>\n",
       "      <td>1</td>\n",
       "      <td>3738</td>\n",
       "      <td>1297</td>\n",
       "    </tr>\n",
       "    <tr>\n",
       "      <th>2</th>\n",
       "      <td>1</td>\n",
       "      <td>1</td>\n",
       "      <td>4261</td>\n",
       "      <td>1335</td>\n",
       "    </tr>\n",
       "    <tr>\n",
       "      <th>3</th>\n",
       "      <td>1</td>\n",
       "      <td>1</td>\n",
       "      <td>3777</td>\n",
       "      <td>1282</td>\n",
       "    </tr>\n",
       "    <tr>\n",
       "      <th>4</th>\n",
       "      <td>1</td>\n",
       "      <td>1</td>\n",
       "      <td>4177</td>\n",
       "      <td>1590</td>\n",
       "    </tr>\n",
       "  </tbody>\n",
       "</table>\n",
       "</div>"
      ],
      "text/plain": [
       "   Gender  Age Range  Head Size(cm^3)  Brain Weight(grams)\n",
       "0       1          1             4512                 1530\n",
       "1       1          1             3738                 1297\n",
       "2       1          1             4261                 1335\n",
       "3       1          1             3777                 1282\n",
       "4       1          1             4177                 1590"
      ]
     },
     "execution_count": 3,
     "metadata": {},
     "output_type": "execute_result"
    }
   ],
   "source": [
    "dataset.head()"
   ]
  },
  {
   "cell_type": "code",
   "execution_count": 4,
   "metadata": {
    "colab": {
     "base_uri": "https://localhost:8080/"
    },
    "id": "DszfrPu2AnsG",
    "outputId": "4f263164-87b9-4912-8b4f-c65b8298d024"
   },
   "outputs": [
    {
     "name": "stdout",
     "output_type": "stream",
     "text": [
      "Length of the dataset:  237\n"
     ]
    }
   ],
   "source": [
    "print(\"Length of the dataset: \", dataset.shape[0])"
   ]
  },
  {
   "cell_type": "markdown",
   "metadata": {
    "id": "oih4xOsJBIwY"
   },
   "source": [
    "<h1>Analyze data</h1>"
   ]
  },
  {
   "cell_type": "code",
   "execution_count": 5,
   "metadata": {
    "colab": {
     "base_uri": "https://localhost:8080/"
    },
    "id": "9ykOu9P_BDPM",
    "outputId": "dfff38c6-f453-4ed3-8b95-896924ceea25"
   },
   "outputs": [
    {
     "data": {
      "text/plain": [
       "Gender                 0\n",
       "Age Range              0\n",
       "Head Size(cm^3)        0\n",
       "Brain Weight(grams)    0\n",
       "dtype: int64"
      ]
     },
     "execution_count": 5,
     "metadata": {},
     "output_type": "execute_result"
    }
   ],
   "source": [
    "dataset.isnull().sum()"
   ]
  },
  {
   "cell_type": "markdown",
   "metadata": {
    "id": "5BfDpw93Elvq"
   },
   "source": [
    "The dataset doesn't have any NAN values."
   ]
  },
  {
   "cell_type": "code",
   "execution_count": 6,
   "metadata": {
    "colab": {
     "base_uri": "https://localhost:8080/",
     "height": 284
    },
    "id": "X5jQzUw9DBX4",
    "outputId": "89e2ed91-6cbf-419e-e122-61af9b788566"
   },
   "outputs": [
    {
     "data": {
      "text/html": [
       "<div>\n",
       "<style scoped>\n",
       "    .dataframe tbody tr th:only-of-type {\n",
       "        vertical-align: middle;\n",
       "    }\n",
       "\n",
       "    .dataframe tbody tr th {\n",
       "        vertical-align: top;\n",
       "    }\n",
       "\n",
       "    .dataframe thead th {\n",
       "        text-align: right;\n",
       "    }\n",
       "</style>\n",
       "<table border=\"1\" class=\"dataframe\">\n",
       "  <thead>\n",
       "    <tr style=\"text-align: right;\">\n",
       "      <th></th>\n",
       "      <th>Gender</th>\n",
       "      <th>Age Range</th>\n",
       "      <th>Head Size(cm^3)</th>\n",
       "      <th>Brain Weight(grams)</th>\n",
       "    </tr>\n",
       "  </thead>\n",
       "  <tbody>\n",
       "    <tr>\n",
       "      <th>count</th>\n",
       "      <td>237.000000</td>\n",
       "      <td>237.000000</td>\n",
       "      <td>237.000000</td>\n",
       "      <td>237.000000</td>\n",
       "    </tr>\n",
       "    <tr>\n",
       "      <th>mean</th>\n",
       "      <td>1.434599</td>\n",
       "      <td>1.535865</td>\n",
       "      <td>3633.991561</td>\n",
       "      <td>1282.873418</td>\n",
       "    </tr>\n",
       "    <tr>\n",
       "      <th>std</th>\n",
       "      <td>0.496753</td>\n",
       "      <td>0.499768</td>\n",
       "      <td>365.261422</td>\n",
       "      <td>120.340446</td>\n",
       "    </tr>\n",
       "    <tr>\n",
       "      <th>min</th>\n",
       "      <td>1.000000</td>\n",
       "      <td>1.000000</td>\n",
       "      <td>2720.000000</td>\n",
       "      <td>955.000000</td>\n",
       "    </tr>\n",
       "    <tr>\n",
       "      <th>25%</th>\n",
       "      <td>1.000000</td>\n",
       "      <td>1.000000</td>\n",
       "      <td>3389.000000</td>\n",
       "      <td>1207.000000</td>\n",
       "    </tr>\n",
       "    <tr>\n",
       "      <th>50%</th>\n",
       "      <td>1.000000</td>\n",
       "      <td>2.000000</td>\n",
       "      <td>3614.000000</td>\n",
       "      <td>1280.000000</td>\n",
       "    </tr>\n",
       "    <tr>\n",
       "      <th>75%</th>\n",
       "      <td>2.000000</td>\n",
       "      <td>2.000000</td>\n",
       "      <td>3876.000000</td>\n",
       "      <td>1350.000000</td>\n",
       "    </tr>\n",
       "    <tr>\n",
       "      <th>max</th>\n",
       "      <td>2.000000</td>\n",
       "      <td>2.000000</td>\n",
       "      <td>4747.000000</td>\n",
       "      <td>1635.000000</td>\n",
       "    </tr>\n",
       "  </tbody>\n",
       "</table>\n",
       "</div>"
      ],
      "text/plain": [
       "           Gender   Age Range  Head Size(cm^3)  Brain Weight(grams)\n",
       "count  237.000000  237.000000       237.000000           237.000000\n",
       "mean     1.434599    1.535865      3633.991561          1282.873418\n",
       "std      0.496753    0.499768       365.261422           120.340446\n",
       "min      1.000000    1.000000      2720.000000           955.000000\n",
       "25%      1.000000    1.000000      3389.000000          1207.000000\n",
       "50%      1.000000    2.000000      3614.000000          1280.000000\n",
       "75%      2.000000    2.000000      3876.000000          1350.000000\n",
       "max      2.000000    2.000000      4747.000000          1635.000000"
      ]
     },
     "execution_count": 6,
     "metadata": {},
     "output_type": "execute_result"
    }
   ],
   "source": [
    "#summary of the dataset\n",
    "dataset.describe()"
   ]
  },
  {
   "cell_type": "code",
   "execution_count": 7,
   "metadata": {
    "colab": {
     "base_uri": "https://localhost:8080/",
     "height": 336
    },
    "id": "fScl0j9DEId1",
    "outputId": "79fe985f-43ab-4b46-cd18-723de8fb14c2"
   },
   "outputs": [
    {
     "data": {
      "image/png": "[encoded data removed]",
      "text/plain": [
       "<Figure size 720x360 with 1 Axes>"
      ]
     },
     "metadata": {
      "needs_background": "light"
     },
     "output_type": "display_data"
    }
   ],
   "source": [
    "#plot data\n",
    "plt.figure(figsize=(10,5))\n",
    "plt.scatter(y='Brain Weight(grams)',x='Head Size(cm^3)',c='green',data=dataset)\n",
    "plt.xlabel('Head size(cm^3)')\n",
    "plt.ylabel('Brain weight(grams)')\n",
    "plt.title(\"Head size VS Brain Weight\")\n",
    "plt.show()"
   ]
  },
  {
   "cell_type": "markdown",
   "metadata": {
    "id": "pr7EfvVDGZ83"
   },
   "source": [
    "\n",
    "From the scatter plot, it can be seen that brain size has a linear dependency on head size.<br>\n",
    "Here, head size is considered as independent variable and brain size as the dependent variable. "
   ]
  },
  {
   "cell_type": "markdown",
   "metadata": {
    "id": "bZzXy9fKHhZv"
   },
   "source": [
    "<h1>Collect X and Y values</h1>"
   ]
  },
  {
   "cell_type": "markdown",
   "metadata": {
    "id": "4YRu7aM6H4jv"
   },
   "source": [
    "As we are interested in finding relationship between head size and brain weight, we consider head size(independent) as X and brain size(dependent) as y."
   ]
  },
  {
   "cell_type": "code",
   "execution_count": 8,
   "metadata": {
    "id": "tBOnJlbzFxu1"
   },
   "outputs": [],
   "source": [
    "X = dataset['Head Size(cm^3)'].values #input feature\n",
    "y = dataset['Brain Weight(grams)'].values #target feature"
   ]
  },
  {
   "cell_type": "markdown",
   "metadata": {
    "id": "9cNVQdMzMlSP"
   },
   "source": [
    "Split the dataset to create test and train dataset"
   ]
  },
  {
   "cell_type": "code",
   "execution_count": 9,
   "metadata": {
    "id": "9Y9WuTazJlat"
   },
   "outputs": [],
   "source": [
    "from sklearn.model_selection import train_test_split\n",
    "X = X.reshape(len(X),1)\n",
    "X_train, X_test, y_train, y_test = train_test_split(X,y,test_size=0.2,random_state=0)"
   ]
  },
  {
   "cell_type": "code",
   "execution_count": 10,
   "metadata": {
    "colab": {
     "base_uri": "https://localhost:8080/"
    },
    "id": "rnXkLTrbRB6H",
    "outputId": "347a9324-7275-40bc-ce18-369c7f5dfadb"
   },
   "outputs": [
    {
     "name": "stdout",
     "output_type": "stream",
     "text": [
      "Length of train set:  189\n",
      "Length of test set:  48\n"
     ]
    }
   ],
   "source": [
    "print(\"Length of train set: \", X_train.shape[0])\n",
    "print(\"Length of test set: \", X_test.shape[0])"
   ]
  },
  {
   "cell_type": "markdown",
   "metadata": {
    "id": "wrZIGxvmNSvW"
   },
   "source": [
    "<h1>Implement regression model</h1>"
   ]
  },
  {
   "cell_type": "markdown",
   "metadata": {
    "id": "72DfchBtk1EM"
   },
   "source": [
    "**Linear regression** is a statistical method to define relationship between an independent variable and one or more independent variable.\n",
    "<br>\n",
    "<br>\n",
    "For this notebook, **simple linear regression** would be used to study relationship between head size and brain weight.\n",
    "\n",
    "It takes the following form: -\n",
    "> y = β0 + β1X\n",
    "\n",
    "1. y  is the dependent variable. \n",
    "2. X is the input feature (independent variable).\n",
    "3. β0 is the intercept\n",
    "4. β1 is the coefficient for x\n",
    "\n",
    "β0 and β1 are called the model coefficients.\n",
    "\n"
   ]
  },
  {
   "cell_type": "code",
   "execution_count": 11,
   "metadata": {
    "id": "XwvM7lLiMSc_"
   },
   "outputs": [],
   "source": [
    "#importing sklearn linear regression model\n",
    "from sklearn.linear_model import LinearRegression\n",
    "model = LinearRegression()"
   ]
  },
  {
   "cell_type": "code",
   "execution_count": 12,
   "metadata": {
    "id": "B-OMxBwtNQxa"
   },
   "outputs": [],
   "source": [
    "#model fitting\n",
    "#the fit function assigns a best fit line through all the data points.\n",
    "history = model.fit(X_train,y_train)"
   ]
  },
  {
   "cell_type": "markdown",
   "metadata": {
    "id": "4A71R7x1otw1"
   },
   "source": [
    "**Calculate the R-squared value:** <br>\n",
    "R-squared (R²) is a statistical measure that represents the proportion of the variance for a dependent variable that's explained by an independent variable or variables in a regression model.\n",
    "<br>\n",
    "<br>\n",
    "<img src=\"https://i.ibb.co/JBRpb9Y/r2.png\" alt=\"r2\">\n",
    "</br>\n",
    "Where,\n",
    "1. y(i): Actual values of y\n",
    "2. y ̅ : Mean value of y\n",
    "3. y^(i): Predicted values of y\n",
    "        "
   ]
  },
  {
   "cell_type": "code",
   "execution_count": 13,
   "metadata": {
    "colab": {
     "base_uri": "https://localhost:8080/"
    },
    "id": "QugUmDmBOBMN",
    "outputId": "813c585b-5e89-4c7e-8929-0b471d33dd76"
   },
   "outputs": [
    {
     "name": "stdout",
     "output_type": "stream",
     "text": [
      "R² Score:  0.6392387551180254\n",
      "Intercept:  334.2612733470444\n",
      "Coefficient:  [0.26106902]\n"
     ]
    }
   ],
   "source": [
    "print(\"R² Score: \", history.score(X_train,y_train))\n",
    "print(\"Intercept: \", history.intercept_)\n",
    "print(\"Coefficient: \", history.coef_)"
   ]
  },
  {
   "cell_type": "markdown",
   "metadata": {
    "id": "PuiWgEhtttt0"
   },
   "source": [
    "**R² Score** usually ranges from **0 to 1**.\n",
    "**R² Score** depends on type of data dealt with.<br>\n",
    "The above model gives a R² Score of **0.639**, which is certainly not bad considering the model is trained over a very small dataset.\n",
    "<br>\n",
    "<br>\n",
    "But we can improve the score by : -\n",
    "> 1. Getting more datasets\n",
    "> 2. Improving the features\n",
    "> 3. Fit many models etc"
   ]
  },
  {
   "cell_type": "markdown",
   "metadata": {
    "id": "69cWYVWPwuXZ"
   },
   "source": [
    "<h1>Model prediction</h1>"
   ]
  },
  {
   "cell_type": "code",
   "execution_count": 14,
   "metadata": {
    "id": "EGoErGz_Ry0w"
   },
   "outputs": [],
   "source": [
    "#prediction on X_test\n",
    "y_pred = model.predict(X_test)"
   ]
  },
  {
   "cell_type": "code",
   "execution_count": 15,
   "metadata": {
    "colab": {
     "base_uri": "https://localhost:8080/",
     "height": 367
    },
    "id": "kFcvqt8fSeaG",
    "outputId": "b4680fbb-4465-4445-e379-ab7fcb04ed20"
   },
   "outputs": [
    {
     "data": {
      "text/plain": [
       "Text(0.5, 1.0, 'Linear regression: Head size VS Brain weight')"
      ]
     },
     "execution_count": 15,
     "metadata": {},
     "output_type": "execute_result"
    },
    {
     "data": {
      "image/png": "[encoded data removed]",
      "text/plain": [
       "<Figure size 720x360 with 1 Axes>"
      ]
     },
     "metadata": {
      "needs_background": "light"
     },
     "output_type": "display_data"
    }
   ],
   "source": [
    "#plot model prediction\n",
    "plt.figure(figsize=(10,5))\n",
    "plt.plot(X_test,y_pred, label='y: Predicted line')   \n",
    "plt.scatter(X_test,y_test,c='red',label='y: Actual scatter plot')\n",
    "plt.xlabel('Headsize(cm^3)')\n",
    "plt.ylabel('Brain weight(grams)')\n",
    "plt.legend()\n",
    "plt.title(\"Linear regression: Head size VS Brain weight\")"
   ]
  },
  {
   "cell_type": "markdown",
   "metadata": {
    "id": "aqDASbVoy36_"
   },
   "source": [
    "The model **predicted line** against the **actual value** scattered in the graph above looks pretty good.<br>\n",
    "\n",
    "\n"
   ]
  },
  {
   "cell_type": "markdown",
   "metadata": {
    "id": "Eys6PbzBDaCk"
   },
   "source": [
    "<h1>Conclusion</h1>\n",
    "\n",
    "From the scatterplot along with R-squared value, the relationship between head volume and brain weight <br>\n",
    "appears to be **roughly linear**.<br>\n",
    "It indicates that head volume is a **moderately good predictor** of brain weight."
   ]
  }
 ],
 "metadata": {
  "colab": {
   "collapsed_sections": [],
   "name": "head_brain.ipynb",
   "provenance": [],
   "toc_visible": true
  },
  "kernelspec": {
   "display_name": "Python 3",
   "language": "python",
   "name": "python3"
  },
  "language_info": {
   "codemirror_mode": {
    "name": "ipython",
    "version": 3
   },
   "file_extension": ".py",
   "mimetype": "text/x-python",
   "name": "python",
   "nbconvert_exporter": "python",
   "pygments_lexer": "ipython3",
   "version": "3.7.3"
  }
 },
 "nbformat": 4,
 "nbformat_minor": 1
}
